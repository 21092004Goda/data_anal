{
  "nbformat": 4,
  "nbformat_minor": 0,
  "metadata": {
    "colab": {
      "provenance": [],
      "authorship_tag": "ABX9TyN9Vg+IGR4OeMl0JGnkpbHr",
      "include_colab_link": true
    },
    "kernelspec": {
      "name": "python3",
      "display_name": "Python 3"
    },
    "language_info": {
      "name": "python"
    }
  },
  "cells": [
    {
      "cell_type": "markdown",
      "metadata": {
        "id": "view-in-github",
        "colab_type": "text"
      },
      "source": [
        "<a href=\"https://colab.research.google.com/github/21092004Goda/data_anal/blob/main/Lab_1_Computer_Vision_and_Pattern_Recognition.ipynb\" target=\"_parent\"><img src=\"https://colab.research.google.com/assets/colab-badge.svg\" alt=\"Open In Colab\"/></a>"
      ]
    },
    {
      "cell_type": "markdown",
      "source": [
        "## **Лабораторная работа 1.**\n",
        "#### *Сбор, визуализация и анализ данных по графу*"
      ],
      "metadata": {
        "id": "www_mTav2gQ8"
      }
    },
    {
      "cell_type": "markdown",
      "source": [
        "### **Выбор тематики научных публикаций и сбор**\n",
        "В качестве тематики для анализа был выбрана область Computer Vision and Pattern Recognition *(CVPR)*. Данное направление является одним из наиболее динамично развивающихся в сфере искусственного интеллекта и машинного обучения, что обусловлено его широким практическим применением: от автономных транспортных систем и медицинской диагностики до обработки изображений и видеоаналитики."
      ],
      "metadata": {
        "id": "tYv36epY3I_s"
      }
    },
    {
      "cell_type": "markdown",
      "source": [
        "### **Сбор данных о научных публикациях через arXiv API**\n",
        "\n",
        "**Область:** *Computer Vision and Pattern Recognition*\n",
        "\n",
        "**Источник:** [arxiv.org](https://arxiv.org/list/cs.CV/recent)\n"
      ],
      "metadata": {
        "id": "WozTRbcb5vUt"
      }
    },
    {
      "cell_type": "code",
      "source": [
        "%%capture\n",
        "!pip install feedparser"
      ],
      "metadata": {
        "id": "ATLgfwiz66Yu"
      },
      "execution_count": 2,
      "outputs": []
    },
    {
      "cell_type": "code",
      "source": [
        "import feedparser\n",
        "import urllib.request as libreq\n",
        "import pandas as pd"
      ],
      "metadata": {
        "id": "3VIvD8OXDnUG"
      },
      "execution_count": 3,
      "outputs": []
    },
    {
      "cell_type": "code",
      "source": [
        "# data collection\n",
        "\n",
        "with libreq.urlopen('https://export.arxiv.org/api/query?search_query=cat:cs.CV&start=0&max_results=1000') as url:\n",
        "  r = url.read()\n",
        "print(r)"
      ],
      "metadata": {
        "id": "T3sI_tq0Do3G"
      },
      "execution_count": null,
      "outputs": []
    }
  ]
}