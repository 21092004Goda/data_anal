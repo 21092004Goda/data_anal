{
  "nbformat": 4,
  "nbformat_minor": 0,
  "metadata": {
    "colab": {
      "provenance": [],
      "gpuType": "T4",
      "authorship_tag": "ABX9TyMIs2xQqBZJpLnkdamnuH1Y",
      "include_colab_link": true
    },
    "kernelspec": {
      "name": "python3",
      "display_name": "Python 3"
    },
    "language_info": {
      "name": "python"
    },
    "accelerator": "GPU"
  },
  "cells": [
    {
      "cell_type": "markdown",
      "metadata": {
        "id": "view-in-github",
        "colab_type": "text"
      },
      "source": [
        "<a href=\"https://colab.research.google.com/github/21092004Goda/data_anal/blob/main/Lab_1_Computer_Vision_and_Pattern_Recognition.ipynb\" target=\"_parent\"><img src=\"https://colab.research.google.com/assets/colab-badge.svg\" alt=\"Open In Colab\"/></a>"
      ]
    },
    {
      "cell_type": "markdown",
      "source": [
        "## **Лабораторная работа 1.**\n",
        "#### *Сбор, визуализация и анализ данных по графу*"
      ],
      "metadata": {
        "id": "www_mTav2gQ8"
      }
    },
    {
      "cell_type": "markdown",
      "source": [
        "### **Выбор тематики научных публикаций и сбор**\n",
        "В качестве тематики для анализа был выбрана область Computer Vision and Pattern Recognition *(CVPR)*. Данное направление является одним из наиболее динамично развивающихся в сфере искусственного интеллекта и машинного обучения, что обусловлено его широким практическим применением: от автономных транспортных систем и медицинской диагностики до обработки изображений и видеоаналитики."
      ],
      "metadata": {
        "id": "tYv36epY3I_s"
      }
    },
    {
      "cell_type": "markdown",
      "source": [
        "### **Сбор данных о научных публикациях через arXiv API**\n",
        "\n",
        "**Область:** *Computer Vision and Pattern Recognition*\n",
        "\n",
        "**Источник:** [arxiv.org](https://arxiv.org/list/cs.CV/recent)\n"
      ],
      "metadata": {
        "id": "WozTRbcb5vUt"
      }
    },
    {
      "cell_type": "code",
      "source": [
        "%%capture\n",
        "!pip install feedparser\n"
      ],
      "metadata": {
        "id": "ATLgfwiz66Yu"
      },
      "execution_count": null,
      "outputs": []
    },
    {
      "cell_type": "code",
      "source": [
        "import feedparser\n",
        "import urllib.request as libreq\n",
        "import pandas as pd\n"
      ],
      "metadata": {
        "id": "3VIvD8OXDnUG"
      },
      "execution_count": null,
      "outputs": []
    },
    {
      "cell_type": "code",
      "source": [
        "# Параметры запроса\n",
        "base_url = 'http://export.arxiv.org/api/query?'\n",
        "search_query = 'cat:cs.CV'  # Категория: Computer Vision\n",
        "start = 0                   # Начальный индекс\n",
        "max_results = 200           # Количество результатов за запрос (максимум 2000)\n"
      ],
      "metadata": {
        "id": "T3sI_tq0Do3G"
      },
      "execution_count": null,
      "outputs": []
    },
    {
      "cell_type": "code",
      "source": [
        "# Формирование URL\n",
        "url = f\"{base_url}search_query={search_query}&start={start}&max_results={max_results}\"\n"
      ],
      "metadata": {
        "id": "TXFVDtkNF6vm"
      },
      "execution_count": null,
      "outputs": []
    },
    {
      "cell_type": "code",
      "source": [
        "# Выполнение запроса и разбор ответа\n",
        "with libreq.urlopen(url) as response:\n",
        "    data = response.read()\n",
        "feed = feedparser.parse(data)\n"
      ],
      "metadata": {
        "id": "YK1JfU8PF9uz"
      },
      "execution_count": null,
      "outputs": []
    },
    {
      "cell_type": "code",
      "source": [
        "# Извлечение нужных данных\n",
        "articles = []\n",
        "for entry in feed.entries:\n",
        "    authors = ', '.join(author.name for author in entry.authors)\n",
        "    tags = [tag['term'] for tag in entry.get('tags', [])]\n",
        "    articles.append({\n",
        "        'title': entry.title,\n",
        "        'abstract': entry.summary,\n",
        "        'authors': authors,\n",
        "        'tags': \", \".join(tags),\n",
        "        'published': entry.published,\n",
        "        'arxiv_url': entry.link\n",
        "    })\n",
        "\n"
      ],
      "metadata": {
        "id": "-tISBKUwGH1e"
      },
      "execution_count": null,
      "outputs": []
    },
    {
      "cell_type": "code",
      "source": [
        "# Создание DataFrame\n",
        "df = pd.DataFrame(articles)\n",
        "print(df.shape)\n",
        "df.head()"
      ],
      "metadata": {
        "id": "nC_BY2QUGI6W"
      },
      "execution_count": null,
      "outputs": []
    },
    {
      "cell_type": "markdown",
      "source": [
        "### **Загрузка модели для извлечения ключевых слов с HuggingFace**\n",
        "\n",
        "**Модель:** [HuggingFace](https://huggingface.co/ilsilfverskiold/tech-keywords-extractor)"
      ],
      "metadata": {
        "id": "wyd8qNt_IymV"
      }
    },
    {
      "cell_type": "code",
      "source": [
        "# 2. Извлечение ключевых слов\n",
        "from transformers import pipeline\n",
        "from tqdm.auto import tqdm\n",
        "import torch\n",
        "\n",
        "print(torch.cuda.is_available())  # True = GPU доступен\n",
        "print(torch.cuda.get_device_name(0))  # имя GPU\n",
        "\n",
        "pipe = pipeline(\"text2text-generation\", model=\"ilsilfverskiold/tech-keywords-extractor\", device=0)\n",
        "\n",
        "tqdm.pandas()\n",
        "df[\"keywords\"] = df[\"abstract\"].progress_apply(lambda x: pipe(x)[0][\"generated_text\"].split(\", \"))\n",
        "\n",
        "df.head()"
      ],
      "metadata": {
        "id": "SXY8rXbbMva6"
      },
      "execution_count": null,
      "outputs": []
    },
    {
      "cell_type": "code",
      "source": [
        "# 3. Сохранение датасета\n",
        "df.to_csv(\"cvpr_pubs.csv\", index=False)"
      ],
      "metadata": {
        "id": "wgUphNATM4__"
      },
      "execution_count": null,
      "outputs": []
    },
    {
      "cell_type": "code",
      "source": [
        "# 4. Построение графа по ключевым словам\n",
        "import networkx as nx\n",
        "from itertools import combinations, chain\n",
        "import matplotlib.pyplot as plt\n",
        "import matplotlib.colors as mcolors\n",
        "\n",
        "klist = [[word.strip() for word in keywords if word] for keywords in df[\"keywords\"].tolist()]\n",
        "edges = list(chain(*[list(combinations(words, 2)) for words in klist if len(words) > 1]))\n",
        "edges = [tuple(sorted(edge)) for edge in edges]\n",
        "weighted_edges = [(edge[0], edge[1], {\"weight\": edges.count(edge)}) for edge in set(edges)]\n",
        "\n",
        "G = nx.Graph()\n",
        "G.add_edges_from(weighted_edges)\n",
        "\n",
        "plt.figure(figsize=(12, 8))\n",
        "nx.draw(G, with_labels=False, node_size=20)\n",
        "plt.show()\n"
      ],
      "metadata": {
        "id": "Rw9d-JosM5c6"
      },
      "execution_count": null,
      "outputs": []
    },
    {
      "cell_type": "code",
      "source": [
        "# 5. Кластеры (поиск сообществ)\n",
        "communities = nx.community.louvain_communities(G, resolution=0.9)\n",
        "print(f\"Clusters: {len(communities)}\")\n"
      ],
      "metadata": {
        "colab": {
          "base_uri": "https://localhost:8080/"
        },
        "id": "9pprZRQKM9kh",
        "outputId": "ab668e00-e536-418d-fbbe-07110e6614fd"
      },
      "execution_count": null,
      "outputs": [
        {
          "output_type": "stream",
          "name": "stdout",
          "text": [
            "Clusters: 101\n"
          ]
        }
      ]
    },
    {
      "cell_type": "code",
      "source": [
        "# 6. Топовые узлы по центральности\n",
        "from operator import itemgetter\n",
        "\n",
        "for i, nodes in enumerate(communities[:3], start=1):\n",
        "    s = G.subgraph(nodes)\n",
        "    top_nodes = sorted(nx.degree_centrality(s).items(), key=itemgetter(1), reverse=True)[:5]\n",
        "    print(f\"Cluster {i}, top nodes: {top_nodes}\")\n"
      ],
      "metadata": {
        "id": "ghCu5Iy5M_e-"
      },
      "execution_count": null,
      "outputs": []
    }
  ]
}