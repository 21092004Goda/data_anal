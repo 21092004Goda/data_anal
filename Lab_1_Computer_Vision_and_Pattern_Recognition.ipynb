{
  "nbformat": 4,
  "nbformat_minor": 0,
  "metadata": {
    "colab": {
      "provenance": [],
      "authorship_tag": "ABX9TyOqPzO+iprqtb29QN2JeM6y",
      "include_colab_link": true
    },
    "kernelspec": {
      "name": "python3",
      "display_name": "Python 3"
    },
    "language_info": {
      "name": "python"
    }
  },
  "cells": [
    {
      "cell_type": "markdown",
      "metadata": {
        "id": "view-in-github",
        "colab_type": "text"
      },
      "source": [
        "<a href=\"https://colab.research.google.com/github/21092004Goda/data_anal/blob/main/Lab_1_Computer_Vision_and_Pattern_Recognition.ipynb\" target=\"_parent\"><img src=\"https://colab.research.google.com/assets/colab-badge.svg\" alt=\"Open In Colab\"/></a>"
      ]
    },
    {
      "cell_type": "markdown",
      "source": [
        "## **Лабораторная работа 1.**\n",
        "#### *Сбор, визуализация и анализ данных по графу*"
      ],
      "metadata": {
        "id": "www_mTav2gQ8"
      }
    },
    {
      "cell_type": "markdown",
      "source": [
        "### **Выбор тематики научных публикаций и сбор**\n",
        "В качестве тематики для анализа был выбрана область Computer Vision and Pattern Recognition *(CVPR)*. Данное направление является одним из наиболее динамично развивающихся в сфере искусственного интеллекта и машинного обучения, что обусловлено его широким практическим применением: от автономных транспортных систем и медицинской диагностики до обработки изображений и видеоаналитики."
      ],
      "metadata": {
        "id": "tYv36epY3I_s"
      }
    },
    {
      "cell_type": "markdown",
      "source": [
        "### **Сбор данных о научных публикациях через arXiv API**\n",
        "\n",
        "**Область:** *Computer Vision and Pattern Recognition*\n",
        "\n",
        "**Источник:** [arxiv.org](https://arxiv.org/list/cs.CV/recent)\n"
      ],
      "metadata": {
        "id": "WozTRbcb5vUt"
      }
    },
    {
      "cell_type": "code",
      "source": [
        "%%capture\n",
        "!pip install feedparser\n"
      ],
      "metadata": {
        "id": "ATLgfwiz66Yu"
      },
      "execution_count": 6,
      "outputs": []
    },
    {
      "cell_type": "code",
      "source": [
        "import feedparser\n",
        "import urllib.request as libreq\n",
        "import pandas as pd\n"
      ],
      "metadata": {
        "id": "3VIvD8OXDnUG"
      },
      "execution_count": 13,
      "outputs": []
    },
    {
      "cell_type": "code",
      "source": [
        "# Параметры запроса\n",
        "base_url = 'http://export.arxiv.org/api/query?'\n",
        "search_query = 'cat:cs.CV'  # Категория: Computer Vision\n",
        "start = 0                   # Начальный индекс\n",
        "max_results = 1500           # Количество результатов за запрос (максимум 2000)\n"
      ],
      "metadata": {
        "id": "T3sI_tq0Do3G"
      },
      "execution_count": 19,
      "outputs": []
    },
    {
      "cell_type": "code",
      "source": [
        "# Формирование URL\n",
        "url = f\"{base_url}search_query={search_query}&start={start}&max_results={max_results}\"\n"
      ],
      "metadata": {
        "id": "TXFVDtkNF6vm"
      },
      "execution_count": 20,
      "outputs": []
    },
    {
      "cell_type": "code",
      "source": [
        "# Выполнение запроса и разбор ответа\n",
        "with libreq.urlopen(url) as response:\n",
        "    data = response.read()\n",
        "feed = feedparser.parse(data)\n"
      ],
      "metadata": {
        "id": "YK1JfU8PF9uz"
      },
      "execution_count": 21,
      "outputs": []
    },
    {
      "cell_type": "code",
      "source": [
        "# Извлечение нужных данных\n",
        "articles = []\n",
        "for entry in feed.entries:\n",
        "    authors = ', '.join(author.name for author in entry.authors)\n",
        "    articles.append({\n",
        "        'title': entry.title,\n",
        "        'authors': authors,\n",
        "        'abstract': entry.summary,\n",
        "        'published': entry.published,\n",
        "        'arxiv_url': entry.link\n",
        "    })\n"
      ],
      "metadata": {
        "id": "-tISBKUwGH1e"
      },
      "execution_count": 22,
      "outputs": []
    },
    {
      "cell_type": "code",
      "source": [
        "# Создание DataFrame\n",
        "df = pd.DataFrame(articles)\n",
        "print(df.head())\n",
        "df"
      ],
      "metadata": {
        "id": "nC_BY2QUGI6W"
      },
      "execution_count": null,
      "outputs": []
    },
    {
      "cell_type": "markdown",
      "source": [
        "### **Загрузка модели для извлечения ключевых слов с HuggingFace**\n",
        "\n",
        "**Модель:** [HuggingFace](https://huggingface.co/ilsilfverskiold/tech-keywords-extractor)"
      ],
      "metadata": {
        "id": "wyd8qNt_IymV"
      }
    },
    {
      "cell_type": "code",
      "source": [
        "%%time\n",
        "\n",
        "from transformers import pipeline\n",
        "\n",
        "pipe = pipeline(\"text2text-generation\", model=\"ilsilfverskiold/tech-keywords-extractor\")"
      ],
      "metadata": {
        "id": "4_k-oLp2JF6f"
      },
      "execution_count": null,
      "outputs": []
    }
  ]
}